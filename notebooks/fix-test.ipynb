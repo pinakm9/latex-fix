{
 "cells": [
  {
   "cell_type": "code",
   "execution_count": 1,
   "id": "111f2bfd-ce64-42b3-ae74-88ae888e26d9",
   "metadata": {},
   "outputs": [],
   "source": [
    "import os, sys \n",
    "from pathlib import Path\n",
    "from os.path import dirname, realpath\n",
    "script_dir = Path(dirname(realpath('.')))\n",
    "module_dir = str(script_dir)\n",
    "sys.path.insert(0, module_dir + '/modules')\n",
    "import utility as ut\n",
    "import fix"
   ]
  },
  {
   "cell_type": "code",
   "execution_count": 2,
   "id": "3cc917d4-8a2e-469c-b09d-e7d2d07e13c0",
   "metadata": {},
   "outputs": [
    {
     "name": "stdout",
     "output_type": "stream",
     "text": [
      "Number of unique entries written = 106\n",
      "Time taken by combine_bib is 0.3729 seconds\n",
      "['\\\\bibliographystyle{siamplain}', '\\\\bibliography{ref}']\n",
      "['\\\\bibliographystyle{siamplain}', '\\\\bibliography{ref}']\n",
      "Time taken by fix_all_refs is 0.0019 seconds\n",
      "Time taken by fix_all_paths is 0.0013 seconds\n",
      "Time taken by fix_all_refs is 0.0017 seconds\n",
      "Time taken by fix_all_paths is 0.0010 seconds\n"
     ]
    }
   ],
   "source": [
    "fixer = fix.Fixer('../test')"
   ]
  },
  {
   "cell_type": "code",
   "execution_count": null,
   "id": "ab380bbb-4f21-4205-b995-54fecf7b340b",
   "metadata": {},
   "outputs": [],
   "source": []
  }
 ],
 "metadata": {
  "kernelspec": {
   "display_name": "Python 3 (ipykernel)",
   "language": "python",
   "name": "python3"
  },
  "language_info": {
   "codemirror_mode": {
    "name": "ipython",
    "version": 3
   },
   "file_extension": ".py",
   "mimetype": "text/x-python",
   "name": "python",
   "nbconvert_exporter": "python",
   "pygments_lexer": "ipython3",
   "version": "3.11.5"
  }
 },
 "nbformat": 4,
 "nbformat_minor": 5
}
