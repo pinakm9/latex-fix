{
 "cells": [
  {
   "cell_type": "code",
   "execution_count": 1,
   "id": "111f2bfd-ce64-42b3-ae74-88ae888e26d9",
   "metadata": {},
   "outputs": [],
   "source": [
    "import os, sys \n",
    "from pathlib import Path\n",
    "from os.path import dirname, realpath\n",
    "script_dir = Path(dirname(realpath('.')))\n",
    "module_dir = str(script_dir)\n",
    "sys.path.insert(0, module_dir + '/modules')\n",
    "import utility as ut\n",
    "import fix\n",
    "import warnings\n",
    "warnings.filterwarnings(\"ignore\")"
   ]
  },
  {
   "cell_type": "code",
   "execution_count": 2,
   "id": "3cc917d4-8a2e-469c-b09d-e7d2d07e13c0",
   "metadata": {},
   "outputs": [
    {
     "name": "stderr",
     "output_type": "stream",
     "text": [
      "Overwriting existing string for key: physd.\n",
      "Overwriting existing string for key: jot.\n",
      "Overwriting existing string for key: mwr.\n",
      "Overwriting existing string for key: physfl.\n",
      "Overwriting existing string for key: jpo.\n",
      "Overwriting existing string for key: comm-math-sci.\n",
      "Overwriting existing string for key: dyn-atm-oc.\n",
      "Overwriting existing string for key: jmr.\n",
      "Overwriting existing string for key: jnls.\n",
      "Overwriting existing string for key: tla.\n",
      "Overwriting existing string for key: tlb.\n",
      "Overwriting existing string for key: qjrms.\n",
      "Overwriting existing string for key: bams.\n",
      "Overwriting existing string for key: grl.\n",
      "Overwriting existing string for key: jgr.\n",
      "Overwriting existing string for key: jas.\n",
      "Overwriting existing string for key: jc.\n",
      "Overwriting existing string for key: cd.\n",
      "Overwriting existing string for key: ijc.\n",
      "Overwriting existing string for key: om.\n",
      "Overwriting existing string for key: rg.\n",
      "Overwriting existing string for key: jo.\n",
      "Overwriting existing string for key: natg.\n",
      "Overwriting existing string for key: jam.\n",
      "Overwriting existing string for key: po.\n",
      "Overwriting existing string for key: ptrsa.\n",
      "Overwriting existing string for key: pnas.\n",
      "Overwriting existing string for key: natc.\n",
      "Overwriting existing string for key: npg.\n",
      "Overwriting existing string for key: jmsj.\n"
     ]
    },
    {
     "name": "stdout",
     "output_type": "stream",
     "text": [
      "Number of unique entries written = 555\n",
      "Time taken by combine_bib is 2.4332 seconds\n",
      "Time taken by fix_all_refs is 0.0030 seconds\n",
      "Time taken by fix_all_paths is 0.0022 seconds\n",
      "Time taken by fix_all_refs is 0.0021 seconds\n",
      "Time taken by fix_all_paths is 0.0016 seconds\n",
      "Time taken by fix_all_refs is 0.0027 seconds\n",
      "Time taken by fix_all_paths is 0.0019 seconds\n",
      "Time taken by fix_all_refs is 0.0021 seconds\n",
      "Time taken by fix_all_paths is 0.0014 seconds\n",
      "Time taken by fix_all_refs is 0.0020 seconds\n",
      "Time taken by fix_all_paths is 0.0015 seconds\n"
     ]
    }
   ],
   "source": [
    "titles = {'numerical-fs': 'Numerical filter stability', 'dynamic-fp': 'Solving Fokker-Planck equations',\\\n",
    "          'steady-fp': 'Learning zeros of Fokker-Planck operators', 'probing-nfs': 'Probing numerical filter stability'}\n",
    "fixer = fix.Fixer('../test')"
   ]
  },
  {
   "cell_type": "code",
   "execution_count": 3,
   "id": "53e6e4a7-2392-4914-973f-0f58fd62a61e",
   "metadata": {},
   "outputs": [
    {
     "data": {
      "text/plain": [
       "['06-append.tex',\n",
       " '02-problem.tex',\n",
       " '01-intro.tex',\n",
       " 'main.tex',\n",
       " 'abstract.tex',\n",
       " '03-method.tex',\n",
       " '05-conclude.tex',\n",
       " '04-results.tex',\n",
       " 'plots']"
      ]
     },
     "execution_count": 3,
     "metadata": {},
     "output_type": "execute_result"
    }
   ],
   "source": [
    "os.listdir('../test/numerical-fs')"
   ]
  },
  {
   "cell_type": "code",
   "execution_count": null,
   "id": "3e424893-6153-4518-b490-c7e55c2c2d58",
   "metadata": {},
   "outputs": [],
   "source": []
  }
 ],
 "metadata": {
  "kernelspec": {
   "display_name": "Python 3 (ipykernel)",
   "language": "python",
   "name": "python3"
  },
  "language_info": {
   "codemirror_mode": {
    "name": "ipython",
    "version": 3
   },
   "file_extension": ".py",
   "mimetype": "text/x-python",
   "name": "python",
   "nbconvert_exporter": "python",
   "pygments_lexer": "ipython3",
   "version": "3.11.5"
  }
 },
 "nbformat": 4,
 "nbformat_minor": 5
}
