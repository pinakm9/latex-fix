{
 "cells": [
  {
   "cell_type": "code",
   "execution_count": 1,
   "id": "111f2bfd-ce64-42b3-ae74-88ae888e26d9",
   "metadata": {},
   "outputs": [],
   "source": [
    "import os, sys \n",
    "from pathlib import Path\n",
    "from os.path import dirname, realpath\n",
    "script_dir = Path(dirname(realpath('.')))\n",
    "module_dir = str(script_dir)\n",
    "sys.path.insert(0, module_dir + '/modules')\n",
    "import utility as ut\n",
    "import fix"
   ]
  },
  {
   "cell_type": "code",
   "execution_count": 2,
   "id": "3cc917d4-8a2e-469c-b09d-e7d2d07e13c0",
   "metadata": {},
   "outputs": [
    {
     "name": "stderr",
     "output_type": "stream",
     "text": [
      "Overwriting existing string for key: physd.\n",
      "Overwriting existing string for key: jot.\n",
      "Overwriting existing string for key: mwr.\n",
      "Overwriting existing string for key: physfl.\n",
      "Overwriting existing string for key: jpo.\n",
      "Overwriting existing string for key: comm-math-sci.\n",
      "Overwriting existing string for key: dyn-atm-oc.\n",
      "Overwriting existing string for key: jmr.\n",
      "Overwriting existing string for key: jnls.\n",
      "Overwriting existing string for key: tla.\n",
      "Overwriting existing string for key: tlb.\n",
      "Overwriting existing string for key: qjrms.\n",
      "Overwriting existing string for key: bams.\n",
      "Overwriting existing string for key: grl.\n",
      "Overwriting existing string for key: jgr.\n",
      "Overwriting existing string for key: jas.\n",
      "Overwriting existing string for key: jc.\n",
      "Overwriting existing string for key: cd.\n",
      "Overwriting existing string for key: ijc.\n",
      "Overwriting existing string for key: om.\n",
      "Overwriting existing string for key: rg.\n",
      "Overwriting existing string for key: jo.\n",
      "Overwriting existing string for key: natg.\n",
      "Overwriting existing string for key: jam.\n",
      "Overwriting existing string for key: po.\n",
      "Overwriting existing string for key: ptrsa.\n",
      "Overwriting existing string for key: pnas.\n",
      "Overwriting existing string for key: natc.\n",
      "Overwriting existing string for key: npg.\n",
      "Overwriting existing string for key: jmsj.\n"
     ]
    },
    {
     "name": "stdout",
     "output_type": "stream",
     "text": [
      "Number of unique entries written = 511\n",
      "Time taken by combine_bib is 2.1437 seconds\n",
      "Time taken by fix_all_refs is 0.0020 seconds\n",
      "includegraphics[scale=0.41]{dynamic-plots/L63-0.png} includegraphics[scale=0.41]{dynamic-fp/plots/dynamic-plots-L63-0.png}\n",
      "includegraphics[scale=0.32]{dynamic-plots/10D-time.png} includegraphics[scale=0.32]{dynamic-fp/plots/dynamic-plots-10D-time.png}\n",
      "includegraphics[scale=0.21]{dynamic-plots/L63-time.png} includegraphics[scale=0.21]{dynamic-fp/plots/dynamic-plots-L63-time.png}\n",
      "includegraphics[scale=0.32]{dynamic-plots/Thomas-time.png} includegraphics[scale=0.32]{dynamic-fp/plots/dynamic-plots-Thomas-time.png}\n",
      "includegraphics[scale=0.21]{dynamic-plots/L63-filter.png} includegraphics[scale=0.21]{dynamic-fp/plots/dynamic-plots-L63-filter.png}\n",
      "includegraphics[scale=0.55]{dynamic-plots/h-SDE.png} includegraphics[scale=0.55]{dynamic-fp/plots/dynamic-plots-h-SDE.png}\n",
      "includegraphics[scale=0.5]{dynamic-plots/xi.png} includegraphics[scale=0.5]{dynamic-fp/plots/dynamic-plots-xi.png}\n",
      "Time taken by fix_all_paths is 0.0012 seconds\n",
      "Time taken by fix_all_refs is 0.0012 seconds\n",
      "includegraphics[width=0.8\\columnwidth]{figures/EnKF/zeros_cov=0.1_cov=1.0.png} includegraphics[width=0.8\\columnwidth]{numerical-fs/plots/figures-EnKF-zeros_cov=0.1_cov=1.0.png}\n",
      "includegraphics[width=\\columnwidth]{figures/BPF/L96_10/1/dist_1_vs_2.png} includegraphics[width=\\columnwidth]{numerical-fs/plots/figures-BPF-L96_10-1-dist_1_vs_2.png}\n",
      "includegraphics[width=\\columnwidth]{figures/BPF/L96_10/1/dist_1_vs_3.png} includegraphics[width=\\columnwidth]{numerical-fs/plots/figures-BPF-L96_10-1-dist_1_vs_3.png}\n",
      "includegraphics[width=\\columnwidth]{figures/BPF/L96_10/1/dist_2_vs_3.png} includegraphics[width=\\columnwidth]{numerical-fs/plots/figures-BPF-L96_10-1-dist_2_vs_3.png}\n",
      "includegraphics[width=\\columnwidth]{figures/BPF/L63/1/dist_1_vs_2.png} includegraphics[width=\\columnwidth]{numerical-fs/plots/figures-BPF-L63-1-dist_1_vs_2.png}\n",
      "includegraphics[width=\\columnwidth]{figures/BPF/L63/1/dist_1_vs_3.png} includegraphics[width=\\columnwidth]{numerical-fs/plots/figures-BPF-L63-1-dist_1_vs_3.png}\n",
      "includegraphics[width=\\columnwidth]{figures/BPF/L63/1/dist_2_vs_3.png} includegraphics[width=\\columnwidth]{numerical-fs/plots/figures-BPF-L63-1-dist_2_vs_3.png}\n",
      "includegraphics[width=\\columnwidth]{figures/EnKF/stable_50_L96_10dim.png} includegraphics[width=\\columnwidth]{numerical-fs/plots/figures-EnKF-stable_50_L96_10dim.png}\n",
      "includegraphics[width=\\columnwidth]{figures/EnKF/stable_200_L96_10dim.png} includegraphics[width=\\columnwidth]{numerical-fs/plots/figures-EnKF-stable_200_L96_10dim.png}\n",
      "includegraphics[width=\\columnwidth]{figures/EnKF/stable_50_loc_L96_40dim.png} includegraphics[width=\\columnwidth]{numerical-fs/plots/figures-EnKF-stable_50_loc_L96_40dim.png}\n",
      "includegraphics[width=0.8\\columnwidth]{figures/EnKF/stable_50_loc_L96_40dim.png} includegraphics[width=0.8\\columnwidth]{numerical-fs/plots/figures-EnKF-stable_50_loc_L96_40dim.png}\n",
      "includegraphics[width=0.8\\columnwidth]{figures/BPF/L96_10/EnKF/distance between different filters.png} includegraphics[width=0.8\\columnwidth]{numerical-fs/plots/figures-BPF-L96_10-EnKF-distance between different filters.png}\n",
      "includegraphics[width=0.28\\textwidth]{figures/BPF/L63/0/dist_1_vs_2.png} includegraphics[width=0.28\\textwidth]{numerical-fs/plots/figures-BPF-L63-0-dist_1_vs_2.png}\n",
      "includegraphics[width =0.28\\textwidth]{figures/BPF/L63/0/dist_2_vs_3.png} includegraphics[width =0.28\\textwidth]{numerical-fs/plots/figures-BPF-L63-0-dist_2_vs_3.png}\n",
      "includegraphics[width = 0.28\\textwidth]{figures/BPF/L63/0/dist_1_vs_3.png} includegraphics[width = 0.28\\textwidth]{numerical-fs/plots/figures-BPF-L63-0-dist_1_vs_3.png}\n",
      "includegraphics[width=0.28\\textwidth]{figures/BPF/L63/0/dist_1_vs_2.png} includegraphics[width=0.28\\textwidth]{numerical-fs/plots/figures-BPF-L63-0-dist_1_vs_2.png}\n",
      "includegraphics[width =0.28\\textwidth]{figures/BPF/L63/0/dist_2_vs_3.png} includegraphics[width =0.28\\textwidth]{numerical-fs/plots/figures-BPF-L63-0-dist_2_vs_3.png}\n",
      "includegraphics[width = 0.28\\textwidth]{figures/BPF/L63/0/dist_1_vs_3.png} includegraphics[width = 0.28\\textwidth]{numerical-fs/plots/figures-BPF-L63-0-dist_1_vs_3.png}\n",
      "includegraphics[width=0.2\\textwidth]{figures/BPF/L63/0/dist_1_vs_2.png} includegraphics[width=0.2\\textwidth]{numerical-fs/plots/figures-BPF-L63-0-dist_1_vs_2.png}\n",
      "includegraphics[width=0.2\\textwidth]{figures/BPF/L63/0/dist_1_vs_2.png} includegraphics[width=0.2\\textwidth]{numerical-fs/plots/figures-BPF-L63-0-dist_1_vs_2.png}\n",
      "includegraphics[width=0.2\\textwidth]{figures/BPF/L63/0/dist_1_vs_2.png} includegraphics[width=0.2\\textwidth]{numerical-fs/plots/figures-BPF-L63-0-dist_1_vs_2.png}\n",
      "includegraphics[width=0.2\\textwidth]{figures/BPF/L63/0/dist_1_vs_2.png} includegraphics[width=0.2\\textwidth]{numerical-fs/plots/figures-BPF-L63-0-dist_1_vs_2.png}\n",
      "includegraphics[width=0.2\\textwidth]{figures/BPF/L63/0/dist_1_vs_2.png} includegraphics[width=0.2\\textwidth]{numerical-fs/plots/figures-BPF-L63-0-dist_1_vs_2.png}\n",
      "includegraphics[width=0.2\\textwidth]{figures/BPF/L63/0/dist_1_vs_2.png} includegraphics[width=0.2\\textwidth]{numerical-fs/plots/figures-BPF-L63-0-dist_1_vs_2.png}\n",
      "Time taken by fix_all_paths is 0.0008 seconds\n",
      "Time taken by fix_all_refs is 0.0021 seconds\n",
      "includegraphics[scale=0.6\n",
      "]{steady-plots/2D-surface.png} includegraphics[scale=0.6\n",
      "]{steady-fp/plots/steady-plots-2D-surface.png}\n",
      "includegraphics[scale=0.32]{steady-plots/2D-error.png} includegraphics[scale=0.32]{steady-fp/plots/steady-plots-2D-error.png}\n",
      "includegraphics[scale=0.6\n",
      "]{steady-plots/10D-surface.png} includegraphics[scale=0.6\n",
      "]{steady-fp/plots/steady-plots-10D-surface.png}\n",
      "includegraphics[scale=0.32]{steady-plots/10D-error.png} includegraphics[scale=0.32]{steady-fp/plots/steady-plots-10D-error.png}\n",
      "includegraphics[scale=0.21]{steady-plots/L63-steady.png} includegraphics[scale=0.21]{steady-fp/plots/steady-plots-L63-steady.png}\n",
      "includegraphics[scale=0.32]{steady-plots/Thomas-steady.png} includegraphics[scale=0.32]{steady-fp/plots/steady-plots-Thomas-steady.png}\n",
      "includegraphics[scale=0.4]{steady-plots/loss-time.png} includegraphics[scale=0.4]{steady-fp/plots/steady-plots-loss-time.png}\n",
      "includegraphics[scale=0.4]{steady-plots/2D-distance.png} includegraphics[scale=0.4]{steady-fp/plots/steady-plots-2D-distance.png}\n",
      "includegraphics[scale=0.55]{steady-plots/attractor.png} includegraphics[scale=0.55]{steady-fp/plots/steady-plots-attractor.png}\n",
      "Time taken by fix_all_paths is 0.0012 seconds\n",
      "Time taken by fix_all_refs is 0.0016 seconds\n",
      "includegraphics[width=0.48\\textwidth]{plots/bpf/effect of obs gap/rate_obs_gap_all.png} includegraphics[width=0.48\\textwidth]{probing-nfs/plots/plots-bpf-effect of obs gap-rate_obs_gap_all.png}\n",
      "includegraphics[width=0.48\\textwidth]{plots/enkf/effect of ob gap/rate_all.png} includegraphics[width=0.48\\textwidth]{probing-nfs/plots/plots-enkf-effect of ob gap-rate_all.png}\n",
      "includegraphics[width=0.48\\columnwidth]{plots/bpf/effect of obs gap/l2_obs_gap_all.png} includegraphics[width=0.48\\columnwidth]{probing-nfs/plots/plots-bpf-effect of obs gap-l2_obs_gap_all.png}\n",
      "includegraphics[width=0.48\\textwidth]{plots/enkf/effect of ob gap/mean_l2error_all.png} includegraphics[width=0.48\\textwidth]{probing-nfs/plots/plots-enkf-effect of ob gap-mean_l2error_all.png}\n",
      "includegraphics[width=0.48\\columnwidth]{plots/bpf/effect of obs gap/trace_obs_gap_all.png} includegraphics[width=0.48\\columnwidth]{probing-nfs/plots/plots-bpf-effect of obs gap-trace_obs_gap_all.png}\n",
      "includegraphics[width=0.48\\textwidth]{plots/enkf/effect of ob gap/mean_trace_all.png} includegraphics[width=0.48\\textwidth]{probing-nfs/plots/plots-enkf-effect of ob gap-mean_trace_all.png}\n",
      "includegraphics[width=0.48\\columnwidth]{plots/bpf/effect of obs gap/dvl2_obs_gap_all.png} includegraphics[width=0.48\\columnwidth]{probing-nfs/plots/plots-bpf-effect of obs gap-dvl2_obs_gap_all.png}\n",
      "includegraphics[width=0.48\\textwidth]{plots/enkf/effect of ob gap/d_versus_l2_all.png} includegraphics[width=0.48\\textwidth]{probing-nfs/plots/plots-enkf-effect of ob gap-d_versus_l2_all.png}\n",
      "includegraphics[width=0.48\\textwidth]{plots/bpf/effect of obs cov/rate_obs_cov_all.png} includegraphics[width=0.48\\textwidth]{probing-nfs/plots/plots-bpf-effect of obs cov-rate_obs_cov_all.png}\n",
      "includegraphics[width=0.48\\textwidth]{plots/enkf/effect of ob cov/rate_all.png} includegraphics[width=0.48\\textwidth]{probing-nfs/plots/plots-enkf-effect of ob cov-rate_all.png}\n",
      "includegraphics[width=0.48\\columnwidth]{plots/bpf/effect of obs cov/l2_obs_cov_all.png} includegraphics[width=0.48\\columnwidth]{probing-nfs/plots/plots-bpf-effect of obs cov-l2_obs_cov_all.png}\n",
      "includegraphics[width=0.48\\textwidth]{plots/enkf/effect of ob cov/mean_l2error_all.png} includegraphics[width=0.48\\textwidth]{probing-nfs/plots/plots-enkf-effect of ob cov-mean_l2error_all.png}\n",
      "includegraphics[width=0.48\\columnwidth]{plots/bpf/effect of obs cov/trace_obs_cov_all.png} includegraphics[width=0.48\\columnwidth]{probing-nfs/plots/plots-bpf-effect of obs cov-trace_obs_cov_all.png}\n",
      "includegraphics[width=0.48\\textwidth]{plots/enkf/effect of ob cov/mean_trace_all.png} includegraphics[width=0.48\\textwidth]{probing-nfs/plots/plots-enkf-effect of ob cov-mean_trace_all.png}\n",
      "includegraphics[width=0.48\\columnwidth]{plots/bpf/effect of obs cov/dvl2_obs_cov_all.png} includegraphics[width=0.48\\columnwidth]{probing-nfs/plots/plots-bpf-effect of obs cov-dvl2_obs_cov_all.png}\n",
      "includegraphics[width=0.48\\textwidth]{plots/enkf/effect of ob cov/d_versus_l2_all.png} includegraphics[width=0.48\\textwidth]{probing-nfs/plots/plots-enkf-effect of ob cov-d_versus_l2_all.png}\n",
      "includegraphics[scale=0.5]{plots/bpf/eps_all.png} includegraphics[scale=0.5]{probing-nfs/plots/plots-bpf-eps_all.png}\n",
      "includegraphics[scale=0.45]{plots/bpf/rate_obs_100.png} includegraphics[scale=0.45]{probing-nfs/plots/plots-bpf-rate_obs_100.png}\n",
      "includegraphics[scale=0.45]{plots/enkf/100_enkf.png} includegraphics[scale=0.45]{probing-nfs/plots/plots-enkf-100_enkf.png}\n",
      "Time taken by fix_all_paths is 0.0010 seconds\n"
     ]
    }
   ],
   "source": [
    "fixer = fix.Fixer('../test')"
   ]
  },
  {
   "cell_type": "code",
   "execution_count": 3,
   "id": "5e11263b-d5f7-4efd-8adf-f2240b74b4ad",
   "metadata": {},
   "outputs": [
    {
     "name": "stdout",
     "output_type": "stream",
     "text": [
      "../test/dynamic-fp/plots/dynamic-plots_L63-time.png\n"
     ]
    }
   ],
   "source": [
    "path = '../test/dynamic-fp/dynamic-plots/L63-time.png'\n",
    "i = path.index('/')\n",
    "j = path[i+1:].index('/')\n",
    "k = path[i+j+2:].index('/')\n",
    "print(path[:i+j+k+3] + 'plots/' + path[i+j+k+3:].replace('/', '_'))"
   ]
  },
  {
   "cell_type": "code",
   "execution_count": 4,
   "id": "84679c86-d14f-44f9-abcc-24794c7d4cca",
   "metadata": {},
   "outputs": [
    {
     "data": {
      "text/plain": [
       "('../test/dynamic-fp',\n",
       " 'test/dynamic-fp/dynamic-plots/L63-time.png',\n",
       " 'dynamic-fp/dynamic-plots/L63-time.png',\n",
       " 10)"
      ]
     },
     "execution_count": 4,
     "metadata": {},
     "output_type": "execute_result"
    }
   ],
   "source": [
    "path[:i+j+k+2], path[i+1:], path[i+j+2:], k"
   ]
  },
  {
   "cell_type": "code",
   "execution_count": 5,
   "id": "65402b3a-0f90-47a1-948f-ab829138b246",
   "metadata": {},
   "outputs": [
    {
     "name": "stdout",
     "output_type": "stream",
     "text": [
      "folder1/plots/folder2_img.png\n"
     ]
    }
   ],
   "source": [
    "folder = 'folder1'\n",
    "path = 'folder2/img.png'\n",
    "print(folder + '/plots/' + path.replace('/', '_'))"
   ]
  },
  {
   "cell_type": "code",
   "execution_count": 6,
   "id": "53e6e4a7-2392-4914-973f-0f58fd62a61e",
   "metadata": {},
   "outputs": [
    {
     "data": {
      "text/plain": [
       "['06-append.tex',\n",
       " '02-problem.tex',\n",
       " '01-intro.tex',\n",
       " 'main.tex',\n",
       " '03-method.tex',\n",
       " '05-conclude.tex',\n",
       " '04-results.tex',\n",
       " 'plots']"
      ]
     },
     "execution_count": 6,
     "metadata": {},
     "output_type": "execute_result"
    }
   ],
   "source": [
    "os.listdir('../test/numerical-fs')"
   ]
  },
  {
   "cell_type": "code",
   "execution_count": null,
   "id": "3e424893-6153-4518-b490-c7e55c2c2d58",
   "metadata": {},
   "outputs": [],
   "source": []
  }
 ],
 "metadata": {
  "kernelspec": {
   "display_name": "Python 3 (ipykernel)",
   "language": "python",
   "name": "python3"
  },
  "language_info": {
   "codemirror_mode": {
    "name": "ipython",
    "version": 3
   },
   "file_extension": ".py",
   "mimetype": "text/x-python",
   "name": "python",
   "nbconvert_exporter": "python",
   "pygments_lexer": "ipython3",
   "version": "3.11.5"
  }
 },
 "nbformat": 4,
 "nbformat_minor": 5
}
